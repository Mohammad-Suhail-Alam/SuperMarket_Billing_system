{
 "cells": [
  {
   "cell_type": "code",
   "execution_count": 1,
   "id": "740723bf-756b-4760-ad85-9b34ebb6111f",
   "metadata": {},
   "outputs": [
    {
     "name": "stdout",
     "output_type": "stream",
     "text": [
      "--------------- Welcome to Family SuperMarket ---------------\n"
     ]
    },
    {
     "name": "stdin",
     "output_type": "stream",
     "text": [
      "Enter customer name:  Ketty\n",
      "Enter customer contact number:  6845243271\n"
     ]
    },
    {
     "name": "stdout",
     "output_type": "stream",
     "text": [
      "-------- Product List --------\n",
      "         Cashew - 460\n",
      "         Rice - 580\n",
      "         Atta - 400\n",
      "         Oil - 160\n",
      "         Maida - 40\n",
      "-----------------------------------------------------------\n"
     ]
    },
    {
     "name": "stdin",
     "output_type": "stream",
     "text": [
      "Enter product name customer wants to buy:  cashew\n",
      "Enter the quantity of the product:  3\n",
      "Do you want to add more items? (Yes/No):  yes\n",
      "Enter product name customer wants to buy:  rice\n",
      "Enter the quantity of the product:  2\n",
      "Do you want to add more items? (Yes/No):  yes\n",
      "Enter product name customer wants to buy:  oil\n",
      "Enter the quantity of the product:  5\n",
      "Do you want to add more items? (Yes/No):  yes\n",
      "Enter product name customer wants to buy:  atta\n",
      "Enter the quantity of the product:  1\n",
      "Do you want to add more items? (Yes/No):  no\n"
     ]
    },
    {
     "name": "stdout",
     "output_type": "stream",
     "text": [
      "-----------------------------------------------------------\n",
      "Customer Name: Ketty\n",
      "Contact Number: 6845243271\n",
      "-----------------------------------------------------------\n",
      "Itemized Bill:\n",
      "Cashew: Price: 460 x 3 = 1380\n",
      "Rice: Price: 580 x 2 = 1160\n",
      "Oil: Price: 160 x 5 = 800\n",
      "Atta: Price: 400 x 1 = 400\n",
      "-----------------------------------------------------------\n",
      "Total Amount: 3740\n",
      "Discount Applied: 5.0%\n",
      "Payable Amount: 3553.0\n",
      "-----------------------------------------------------------\n"
     ]
    },
    {
     "name": "stdin",
     "output_type": "stream",
     "text": [
      "Is there another customer? (Yes/No):  no\n"
     ]
    },
    {
     "name": "stdout",
     "output_type": "stream",
     "text": [
      "--------------- Thank You, Visit Again ---------------\n"
     ]
    }
   ],
   "source": [
    "# Define the available products and their prices\n",
    "Products = {'Cashew': 460, 'Rice': 580, 'Atta': 400, 'Oil': 160, 'Maida': 40}\n",
    "print(\"-\" * 15, \"Welcome to Family SuperMarket\", \"-\" * 15)\n",
    "\n",
    "# Loop to handle multiple customers\n",
    "while True:\n",
    "    items = {}  # Dictionary to store items purchased by the customer\n",
    "    amount = 0  # Total amount for the customer's purchase\n",
    "\n",
    "    # Gather basic details of the customer\n",
    "    customer_name = input(\"Enter customer name: \")\n",
    "    contact_no = input(\"Enter customer contact number: \")\n",
    "    discount = 0  # Initialize discount to zero\n",
    "\n",
    "    # Display the product list to the customer\n",
    "    print(\"-\" * 8, \"Product List\", \"-\" * 8)\n",
    "    for p, n in Products.items():\n",
    "        print(' ' * 8, p, '-', n)\n",
    "    print(\"-\" * 59)\n",
    "\n",
    "    # Loop to allow customers to select multiple products\n",
    "    while True:\n",
    "        product_name = input(\"Enter product name customer wants to buy: \").strip().capitalize()\n",
    "        if product_name not in Products:\n",
    "            print(\"Invalid product name. Please try again.\")  # Validate product name\n",
    "            continue\n",
    "        \n",
    "        # Get the quantity of the selected product\n",
    "        quantity = int(input(\"Enter the quantity of the product: \"))\n",
    "        \n",
    "        # Update the items dictionary with product details\n",
    "        items[product_name] = [\n",
    "            Products[product_name],  # Price per unit\n",
    "            quantity,               # Quantity\n",
    "            Products[product_name] * quantity  # Total cost for this item\n",
    "        ]\n",
    "        \n",
    "        # Add the product cost to the total amount\n",
    "        amount += Products[product_name] * quantity\n",
    "        \n",
    "        # Ask if the customer wants to add more items\n",
    "        repeat = input(\"Do you want to add more items? (Yes/No): \").strip().capitalize()\n",
    "        if repeat == \"No\":\n",
    "            break\n",
    "\n",
    "    # Calculate discount based on total amount\n",
    "    if amount <= 500:\n",
    "        discount = 0\n",
    "    elif 500 < amount <= 2000:\n",
    "        discount = 0.02\n",
    "    elif 2000 < amount <= 5000:\n",
    "        discount = 0.05\n",
    "    elif 5000 < amount <= 10000:\n",
    "        discount = 0.07\n",
    "    else:\n",
    "        discount = 0.10\n",
    "\n",
    "    # Calculate the actual payable amount after applying the discount\n",
    "    actual_amount = amount - (amount * discount)\n",
    "\n",
    "    # Print the bill/receipt for the customer\n",
    "    print(\"-\" * 59)\n",
    "    print(f\"Customer Name: {customer_name}\")\n",
    "    print(f\"Contact Number: {contact_no}\")\n",
    "    print(\"-\" * 59)\n",
    "    print(\"Itemized Bill:\")\n",
    "    for item, details in items.items():\n",
    "        print(f\"{item}: Price: {details[0]} x {details[1]} = {details[2]}\")\n",
    "    print(\"-\" * 59)\n",
    "    print(f\"Total Amount: {amount}\")\n",
    "    print(f\"Discount Applied: {discount * 100}%\")\n",
    "    print(f\"Payable Amount: {actual_amount}\")\n",
    "    print(\"-\" * 59)\n",
    "\n",
    "    # Ask if there's a next customer\n",
    "    next_customer = input(\"Is there another customer? (Yes/No): \").strip().capitalize()\n",
    "    if next_customer == \"No\":\n",
    "        break\n",
    "\n",
    "# Thank the customer and end the program\n",
    "print('-' * 15, \"Thank You, Visit Again\", '-' * 15)\n"
   ]
  },
  {
   "cell_type": "code",
   "execution_count": null,
   "id": "77ee4528-93ab-4a9e-a6a8-345c60533a30",
   "metadata": {},
   "outputs": [],
   "source": []
  }
 ],
 "metadata": {
  "kernelspec": {
   "display_name": "Python 3 (ipykernel)",
   "language": "python",
   "name": "python3"
  },
  "language_info": {
   "codemirror_mode": {
    "name": "ipython",
    "version": 3
   },
   "file_extension": ".py",
   "mimetype": "text/x-python",
   "name": "python",
   "nbconvert_exporter": "python",
   "pygments_lexer": "ipython3",
   "version": "3.11.5"
  }
 },
 "nbformat": 4,
 "nbformat_minor": 5
}
